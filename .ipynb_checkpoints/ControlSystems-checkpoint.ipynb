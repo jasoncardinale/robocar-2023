{
 "cells": [
  {
   "cell_type": "markdown",
   "metadata": {
    "id": "U2QiwNGn8Kbh"
   },
   "source": [
    "# Control Systems\n",
    "## Introduction\n",
    "In this tutorial, I will attempt to provide you with a solid understanding of how varying levels of control systems work. Explanations will be accompanied by example programs aimed to set a precedent for how these systems can be implemented in the Autonomous Vehicle (AV) Challenge. Topics mentioned later in this notebook will build upon topics mentioned before, so it is important to read, run, and understand the code provided before moving on to the next section.\n",
    "\n",
    "## Background\n",
    "Before we move on to the main topic (control systems), I just want to mention briefly some prerequisites for getting the most of this code. While the philosophy of control systems is independent of the specific feedback (sensors) you are using when building your car, and I am not fully aware of what the specifications of the car you have assembled are, I will make use of some common sensors well-suited to this application. Those sensors and some boilerplate code for how to operate them will be provided below. ALso, as a disclaimer, I know that you are using the BBC micro:bit processor so the code I am writting pertaining to sensor control is written in MicroPython and may will not run in this notebook. And regardless we won't be able to interact with any actual sensors in here so I created some 'mock' functions where I just stub out fake feedback.\n",
    "\n",
    "### Ultrasonic Distance Sensors\n",
    "Without getting too much into detail, an ultrasonic sensor uses high-frequency sound waves to calculate distance by measuring the time it takes for the sound to bounce off nearby objects"
   ]
  },
  {
   "cell_type": "code",
   "execution_count": 2,
   "metadata": {
    "id": "2LFeffeKBD0e"
   },
   "outputs": [],
   "source": [
    "import time\n",
    "\n",
    "# Controls the pulses emitted\n",
    "trigger_pin = 0\n",
    "# Measures the pulses received\n",
    "echo_pin = 1\n",
    "\n",
    "def calculateDistance():\n",
    "  # Clear trigger by setting it to LOW\n",
    "  trigger_pin.digital_write(0)\n",
    "  # Set trigger to HIGH\n",
    "  trigger_pin.write_digital(1)\n",
    "\n",
    "  # Set trigger to LOW after 0.01ms\n",
    "  time.sleep_us(10)\n",
    "  trigger_pin.write_digital(0)\n",
    "\n",
    "  start_time = time.ticks_us()\n",
    "  stop_time = time.ticks_us()\n",
    "\n",
    "  # Save the time the pulse is emitted\n",
    "  # The hardware will automatically set echo_pin to HIGH once the pulse is sent\n",
    "  # so once we detect HIGH we start the timer\n",
    "  while echo_pin.read_digital() == 0:\n",
    "      start_time = time.ticks_us()\n",
    "\n",
    "  # Save the time the echo is detected\n",
    "  # When echo_pin detects a signal it will go LOW\n",
    "  while echo_pin.read_digital() == 1:\n",
    "      stop_time = time.ticks_us()\n",
    "\n",
    "  # Time difference between start and arrival\n",
    "  elapsed_time = time.ticks_diff(stop_time, start_time)\n",
    "\n",
    "  # Multiply with the speed of sound (34300 cm/s)\n",
    "  # and divide by 2, since the sound wave has to travel to and from the object\n",
    "  distance = (elapsed_time * 34300) / (2 * 1000000)\n",
    "\n",
    "  # Distance in cm\n",
    "  return distance\n",
    "\n",
    "def calculateDistanceMock(distance):\n",
    "  return distance"
   ]
  },
  {
   "cell_type": "markdown",
   "metadata": {
    "id": "j1ywF-bJPRol"
   },
   "source": [
    "## Photoresistors\n",
    "Photoresistors are electronic components that change their resistance based on the amount of light that they are exposed to. By measuring the resistance of a photoresistor, you can determine the amount of light that is currently hitting it. The more light present, the more conductive the resistor will be. The less light, the more resistive. However, to be clear, we are not measuring resistance over the I/O ports of the board. read_anolog() will tell us the voltage levels across the port. So this means, the more light present -> the more conductive the resistor -> the high voltage across the component -> the higher our readings will be. Therefore, when a reading is comparatively low, we are detecting less light (like from the black lines on the track).\n"
   ]
  },
  {
   "cell_type": "code",
   "execution_count": null,
   "metadata": {
    "id": "Du686L7mPe-s"
   },
   "outputs": [],
   "source": [
    "left_photo_pin = 2\n",
    "right_photo_pin = 3\n",
    "\n",
    "def calculatePhotoresistance():\n",
    "    return left_photo_pin.read_analog(), right_photo_pin.read_analog()"
   ]
  },
  {
   "cell_type": "markdown",
   "metadata": {
    "id": "n5zfk0HvcKs9"
   },
   "source": [
    "## Rotary Encoder\n",
    "A rotary encoder is a device that converts the rotation of a shaft into a digital signal. It typically consists of a shaft with a rotating wheel, which has slots or markings on it that pass by a sensor, generating pulses that can be counted to determine the distance traveled. In most cases, the markings on the wheel are magnets and the sensor they pass by is a Hall magnetic effect sensor (which will detect the presence of a magnetic field).\n",
    "\n",
    "Since we will know the circumference of the wheel, we will know how much distance is traveled per rotation.\n",
    "\n",
    "Ex: A wheel with a diameter of 5cm will have a circumference of roughly 31cm. So if our wheel has 1 magnet, each rotation detected will be equivalent to 31cm traveled."
   ]
  },
  {
   "cell_type": "code",
   "execution_count": null,
   "metadata": {
    "id": "ivQzqNQ4fnky"
   },
   "outputs": [],
   "source": [
    "import math\n",
    "\n",
    "# Set up the hall magnetic effect sensor pin\n",
    "hall_pin = 4\n",
    "hall_pin.set_pull(hall_pin.PULL_UP)\n",
    "\n",
    "# Set up the rotary encoder\n",
    "diameter = 5 # cm\n",
    "circumference = diameter * math.pi\n",
    "count_per_rotation = 5 # 5 magnets evenly spaced along the wheel\n",
    "distance_per_count = circumference / count_per_rotation\n",
    "\n",
    "# Set up the initial state\n",
    "previous_state = 0\n",
    "current_state = 0\n",
    "distance = 0\n",
    "\n",
    "def recordDistance():\n",
    "    # Read the current state of the hall magnetic effect sensor\n",
    "    current_state = hall_pin.read_digital()\n",
    "    \n",
    "    # If the state has changed, increment the distance variable\n",
    "    if current_state != previous_state:\n",
    "        distance += distance_per_count\n",
    "    \n",
    "    # Update the previous state\n",
    "    previous_state = current_state\n",
    "    \n",
    "    # Pause briefly to avoid reading the sensor too quickly\n",
    "    time.sleep_ms(10)"
   ]
  },
  {
   "cell_type": "markdown",
   "metadata": {
    "id": "ijCHDnYSRlkd"
   },
   "source": [
    "## Servo\n",
    "To reiterate, I am not entirely sure what your car setup for this year is but in years prior we have modified the RC cars used in races so that is what I will be doing here. With that, we know that the car is steered by a single 180 degree servo motor. Here is some code to control that servo"
   ]
  },
  {
   "cell_type": "code",
   "execution_count": null,
   "metadata": {
    "id": "0D7Dk5G5XZkt"
   },
   "outputs": [],
   "source": [
    "MAX_LEFT = 10\n",
    "MAX_RIGHT = 170\n",
    "\n",
    "servo_pin = 5\n",
    "\n",
    "def steer(angle):\n",
    "  servo_pin.write_analog(int(1023 * angle / 180))\n",
    "  time.sleep_ms(10)"
   ]
  },
  {
   "cell_type": "markdown",
   "metadata": {
    "id": "BUPLbK50Qfy8"
   },
   "source": [
    "## With that out of the way\n",
    "Let's start learning about how we can use feedback from these sensors to power our control systems."
   ]
  },
  {
   "cell_type": "markdown",
   "metadata": {
    "id": "d7dI-GuzBEWK"
   },
   "source": [
    "## Open-Loop Control\n",
    "Let's start off with the most straightforward example of a control system. In an open-loop system, we can forget about the sensors we just learned about for a second since we will not be receiving any feedback from them.\n",
    "\n",
    "Instead, open-loop control would be like coding a predetermined route for the car to traverse, setting it in motion, then letting it traverse the route without input from sensors or a controller. In the past, there was an aspect of the competition requiring us to measure a route by hand, then code our car to traverse it on the fly. However, looking at the instructions for this years competition it doesn't seem to be a factor. Be that as it may, it is still an important to understand the how it works and also to understand when and how it fails. Code pertaining to this will be very brief as it isn't incredibly useful or anything you don't know already."
   ]
  },
  {
   "cell_type": "code",
   "execution_count": null,
   "metadata": {},
   "outputs": [],
   "source": [
    "motor_pin = 6\n",
    "\n",
    "def openLoopControl():\n",
    "    # Drive forward for 3 seconds\n",
    "    motor_pin.write_analog(1023)\n",
    "    time.sleep(3)\n",
    "    motor_pin.write_analog(0)\n",
    "\n",
    "    # Turn wheels to the right\n",
    "    servo_pin.write_analog((120 / 180) * 1023)\n",
    "\n",
    "    # Drive forward with wheels turned\n",
    "    motor_pin.write_analog(1023)\n",
    "    time.sleep(2)\n",
    "\n",
    "    # Stop\n",
    "    motor_pin.write_analog(0)"
   ]
  },
  {
   "cell_type": "markdown",
   "metadata": {},
   "source": [
    "## Proportional (P) Control\n",
    "Now we can start getting into the nitty-gritty of control system design. Proportional control is a simple yet effective method for controlling a system. It involves taking a sensor reading, comparing it to an ideal \"reading\", and adjusting an output proportionally based on the difference between the two.\n",
    "\n",
    "In the context of our autonomous vehicle, we could apply proportional control for the Stay in Your Lane event.\n",
    "\n",
    "Sensor Readings:\n",
    "\n",
    "    Left Photoresistor: x (some voltage level measured on the resistor pin)\n",
    "\n",
    "    Right Photoresistor: y (same as above)\n",
    "\n",
    "Ideal Readings:\n",
    "\n",
    "    Left Photoresistor: 1023\n",
    "    \n",
    "    Right Photoresistor: 1023\n",
    "\n",
    "As you can see above, we have two sensors contributing to our control system, these photoresistors will be responsible for providing us with feedback that will keep us within the lane lines. Under sensor readings we define what we can expect from the real world input of our sensors to be which is some resistance value. Ideally we want both of these readings to be 1023 (or some constant that refers to the amount of resistance read when the sensors are looking at the white background of the track). When the car starts to veer off course, say to the right, we can expect the right photoresistor voltage reading to decrease. Now let's write some code that uses that information to keep the car within the lines."
   ]
  },
  {
   "cell_type": "code",
   "execution_count": null,
   "metadata": {},
   "outputs": [],
   "source": [
    "MAX_SPEED = 1023  # Maximum motor speed\n",
    "\n",
    "# This is the proportional gain\n",
    "# In simple terms, it will determine how much the output of the controller will change\n",
    "# for a given change in the error between the setpoint and the process variable.\n",
    "# The higher the value of KP, the more aggressively the controller will respond to changes in error\n",
    "KP = 0.5 # Modify\n",
    "\n",
    "# Our error could be a range from 0 to +/-1023\n",
    "# This is used to reduce our error to a more manageable size\n",
    "ERROR_SCALAR = 1000 # Modify\n",
    "\n",
    "def proportionalControl(left_sensor, right_sensor):\n",
    "    \n",
    "    # Calculate steering angle\n",
    "    steering_error = (left_sensor - right_sensor) / ERROR_SCALAR\n",
    "    # math.atan returns radians so the * 180 / math.pi is to convert to degrees\n",
    "    steering_angle = 90 + math.atan(steering_error * KP) * 180 / math.pi\n",
    "    \n",
    "    # Limit the steering angle\n",
    "    if steering_angle < MAX_LEFT:\n",
    "        steering_angle = MAX_LEFT\n",
    "    elif steering_angle > MAX_RIGHT:\n",
    "        steering_angle = MAX_RIGHT\n",
    "    \n",
    "    # Set the servo angle\n",
    "    steer(steering_angle)\n",
    "    \n",
    "    # Set motor speed\n",
    "    motor_pin.write_analog(1000)\n",
    "    \n",
    "    # Wait for 10 ms\n",
    "    time.sleep_ms(10)"
   ]
  },
  {
   "cell_type": "markdown",
   "metadata": {},
   "source": [
    "The proportional control algorithm works by calculating the error between the two readings, which is simply the difference between the left and right readings. If the error is positive, that means the car is too far to the right, so we want to turn the servo to the left to steer the car back towards the center of the track. If the error is negative, that means the car is too far to the left, so we want to turn the servo to the right to steer the car back towards the center of the track. The amount that we turn the servo is proportional to the error. Also note the comment \"The higher the value of KP, the more aggressively the controller will respond to changes in error.\" This means that, the higher KP, the bigger role the error will play in determining our steering angle. This means that if you see the car not turning enough to keep it within the lines using 0.5 for example, then you may need to increase the value. On the other hand, if it is turning too much causing it to start to out of bounds on the opposite side then you may need to decrease the value.\n",
    "\n",
    "## Proportional + Integral (PI) Control\n",
    "PI control is a feedback control strategy that uses two components to correct for error between a desired setpoint and actual process variable. Proportional control is based solely on the current error between the setpoint and actual process variable, while integral control considers the history of the error and integrates it over time.\n",
    "\n",
    "Let's take a look at the function which serves as the basis for PI control.\n",
    "\n",
    "![integral function continuous](integral_continuous.png)\n",
    "\n",
    "This is the form you are probably most familiar with as it integrates in a continuous manner. However, we are running a program repeatadly in python so we will instead calculate in a discrete manner. This we give us a good estimate as to what our actual integral will come to.\n",
    "\n",
    "![integral function discrete](integral_discrete.png)\n",
    "\n",
    "Now that we have the equation we with to use, let's break it apart and examine what is going on at each step.\n",
    "\n",
    "First, $u(t)$ is will essentially be the steering angle we would like to apply to the servo at each step. $u_bias$ will not be used in our case, however just note that it can be used to reduce variations in $u(t)$ when switching between control states. This specific equation which I screenshotted seems to use the same gain for both proportional and integral components ($K_c$) however we will be using separate gains for each system. So just imagine the next part of this equation is $K_p e(t)$. $K_p$ we remember from before is our proportional gain and $e(t)$ is our error recorded at each time step. Our error remember is just the difference between the values read from the left and right sensors. \n",
    "\n",
    "Let's just take a pause now and notice that this step ($K_p e(t)$) is exactly what we did for our P controller. So we can see that a PI controller is literally just adding the integral (I) controller on to our proportional (P) controller. With that in mind, take a look at the summation being performed in place of the integral.\n",
    "\n",
    "$\\tau_I$ is our integral time constant but for us it will just be 1 so we can leave it out. Therefore, we are left with our integral gain times our summation. This very simply is just the value we choose for $K_I$ multiplied by the total error we have accumulated.\n",
    "\n",
    "Having analyzed each step of this function, take a look at a code implementation. Try to pick out the parts that are similar to our proportional controller as well as the parts that facilitate the integration (summation)."
   ]
  },
  {
   "cell_type": "code",
   "execution_count": null,
   "metadata": {},
   "outputs": [],
   "source": [
    "KI = 0.1  # Integral gain constant\n",
    "\n",
    "# Initialize variables for PI control\n",
    "# We keep track of the integral variable as a global variable\n",
    "# since we will be accumulating it every time the function runs\n",
    "integral = 0\n",
    "\n",
    "def proportionalIntegralControl(left_sensor, right_sensor):\n",
    "    # Calculate the error between the two sensor values\n",
    "    steering_error = (left_sensor - right_sensor) / ERROR_SCALAR\n",
    "    \n",
    "    # Calculate the proportional control\n",
    "    proportional = error * KP\n",
    "    \n",
    "    # Calculate the integral control\n",
    "    integral += error\n",
    "    integral_control = integral * KI\n",
    "    \n",
    "    # Add the proportional and integral control to get the total control signal\n",
    "    control = proportional + integral_control\n",
    "    \n",
    "    # Calculate the steering angle based on the control signal\n",
    "    steering_angle = 90 + math.atan(control) * 180 / math.pi\n",
    "    \n",
    "    # Limit the steering angle\n",
    "    if steering_angle < MAX_LEFT:\n",
    "        steering_angle = MAX_LEFT\n",
    "    elif steering_angle > MAX_RIGHT:\n",
    "        steering_angle = MAX_RIGHT\n",
    "    \n",
    "    # Set the servo angle\n",
    "    steer(steering_angle)\n",
    "\n",
    "    # Set motor speed\n",
    "    motor_pin.write_analog(1000)\n",
    "    \n",
    "    # Sleep for a short time to prevent too many loop iterations per second\n",
    "    time.sleep_ms(10)"
   ]
  },
  {
   "cell_type": "code",
   "execution_count": null,
   "metadata": {},
   "outputs": [],
   "source": [
    "# Read photoresistor values\n",
    "# This function returns a tuple of size 2: (left reading, right reading)\n",
    "left_sensor, right_sensor = calculatePhotoresistance()"
   ]
  }
 ],
 "metadata": {
  "colab": {
   "provenance": []
  },
  "kernelspec": {
   "display_name": "Python 3",
   "language": "python",
   "name": "python3"
  },
  "language_info": {
   "codemirror_mode": {
    "name": "ipython",
    "version": 3
   },
   "file_extension": ".py",
   "mimetype": "text/x-python",
   "name": "python",
   "nbconvert_exporter": "python",
   "pygments_lexer": "ipython3",
   "version": "3.7.4"
  }
 },
 "nbformat": 4,
 "nbformat_minor": 1
}
