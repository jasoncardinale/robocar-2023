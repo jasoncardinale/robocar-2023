{
  "cells": [
    {
      "cell_type": "markdown",
      "metadata": {
        "id": "U2QiwNGn8Kbh"
      },
      "source": [
        "# Control Systems\n",
        "## Introduction\n",
        "In this tutorial, I will attempt to provide you with a solid understanding of how varying levels of control systems work. Explanations will be accompanied by example programs aimed to set a precedent for how these systems can be implemented in the Autonomous Vehicle (AV) Challenge. Topics mentioned later in this notebook will build upon topics mentioned before, so it is important to read, run, and understand the code provided before moving on to the next section.\n",
        "\n",
        "## Background\n",
        "Before we move on to the main topic (control systems), I just want to mention briefly some prerequisites for getting the most of this code. While the philosophy of control systems is independent of the specific feedback (sensors) you are using when building your car, and I am not fully aware of what the specifications of the car you have assembled are, I will make use of some common sensors well-suited to this application. Those sensors and some boilerplate code for how to operate them will be provided below. ALso, as a disclaimer, I know that you are using the BBC micro:bit processor so the code I am writting pertaining to sensor control is written in MicroPython and may will not run in this notebook. And regardless we won't be able to interact with any actual sensors in here so I created some 'mock' functions where I just stub out fake feedback.\n",
        "\n",
        "### Ultrasonic Distance Sensors\n",
        "Without getting too much into detail, an ultrasonic sensor uses high-frequency sound waves to calculate distance by measuring the time it takes for the sound to bounce off nearby objects"
      ]
    },
    {
      "cell_type": "code",
      "execution_count": 2,
      "metadata": {
        "id": "2LFeffeKBD0e"
      },
      "outputs": [],
      "source": [
        "import time\n",
        "\n",
        "# Controls the pulses emitted\n",
        "trigger_pin = 0\n",
        "# Measures the pulses received\n",
        "echo_pin = 1\n",
        "\n",
        "def calculateDistance():\n",
        "  # Clear trigger by setting it to LOW\n",
        "  trigger_pin.digital_write(0)\n",
        "  # Set trigger to HIGH\n",
        "  trigger_pin.write_digital(1)\n",
        "\n",
        "  # Set trigger to LOW after 0.01ms\n",
        "  time.sleep_us(10)\n",
        "  trigger_pin.write_digital(0)\n",
        "\n",
        "  start_time = time.ticks_us()\n",
        "  stop_time = time.ticks_us()\n",
        "\n",
        "  # Save the time the pulse is emitted\n",
        "  # The hardware will automatically set echo_pin to HIGH once the pulse is sent\n",
        "  # so once we detect HIGH we start the timer\n",
        "  while echo_pin.read_digital() == 0:\n",
        "      start_time = time.ticks_us()\n",
        "\n",
        "  # Save the time the echo is detected\n",
        "  # When echo_pin detects a signal it will go LOW\n",
        "  while echo_pin.read_digital() == 1:\n",
        "      stop_time = time.ticks_us()\n",
        "\n",
        "  # Time difference between start and arrival\n",
        "  elapsed_time = time.ticks_diff(stop_time, start_time)\n",
        "\n",
        "  # Multiply with the speed of sound (34300 cm/s)\n",
        "  # and divide by 2, since the sound wave has to travel to and from the object\n",
        "  distance = (elapsed_time * 34300) / (2 * 1000000)\n",
        "\n",
        "  # Distance in cm\n",
        "  return distance\n",
        "\n",
        "def calculateDistanceMock(distance):\n",
        "  return distance"
      ]
    },
    {
      "cell_type": "markdown",
      "metadata": {
        "id": "j1ywF-bJPRol"
      },
      "source": [
        "## Photoresistors\n",
        "Photoresistors are electronic components that change their resistance based on the amount of light that they are exposed to. By measuring the resistance of a photoresistor, you can determine the amount of light that is currently hitting it.\n"
      ]
    },
    {
      "cell_type": "code",
      "execution_count": null,
      "metadata": {
        "id": "Du686L7mPe-s"
      },
      "outputs": [],
      "source": [
        "left_photo_pin = 2\n",
        "right_photo_pin = 3\n",
        "\n",
        "def calculatePhotoresistance():\n",
        "    return (left_photo_pin.read_analog(), right_photo_pin.read_analog())"
      ]
    },
    {
      "cell_type": "markdown",
      "metadata": {
        "id": "n5zfk0HvcKs9"
      },
      "source": [
        "## Rotary Encoder\n",
        "A rotary encoder is a device that converts the rotation of a shaft into a digital signal. It typically consists of a shaft with a rotating wheel, which has slots or markings on it that pass by a sensor, generating pulses that can be counted to determine the distance traveled. In most cases, the markings on the wheel are magnets and the sensor they pass by is a Hall magnetic effect sensor (which will detect the presence of a magnetic field).\n",
        "\n",
        "Since we will know the circumference of the wheel, we will know how much distance is traveled per rotation.\n",
        "\n",
        "Ex: A wheel with a diameter of 5cm will have a circumference of roughly 31cm. So if our wheel has 1 magnet, each rotation detected will be equivalent to 31cm traveled."
      ]
    },
    {
      "cell_type": "code",
      "execution_count": null,
      "metadata": {
        "id": "ivQzqNQ4fnky"
      },
      "outputs": [],
      "source": [
        "import math\n",
        "\n",
        "# Set up the hall magnetic effect sensor pin\n",
        "hall_pin = 4\n",
        "hall_pin.set_pull(hall_pin.PULL_UP)\n",
        "\n",
        "# Set up the rotary encoder\n",
        "diameter = 5 # cm\n",
        "circumference = diameter * math.pi\n",
        "count_per_rotation = 5 # 5 magnets evenly spaced along the wheel\n",
        "distance_per_count = circumference / count_per_rotation\n",
        "\n",
        "# Set up the initial state\n",
        "previous_state = 0\n",
        "current_state = 0\n",
        "distance = 0\n",
        "\n",
        "def recordDistance():\n",
        "    # Read the current state of the hall magnetic effect sensor\n",
        "    current_state = hall_pin.read_digital()\n",
        "    \n",
        "    # If the state has changed, increment the distance variable\n",
        "    if current_state != previous_state:\n",
        "        distance += distance_per_count\n",
        "    \n",
        "    # Update the previous state\n",
        "    previous_state = current_state\n",
        "    \n",
        "    # Pause briefly to avoid reading the sensor too quickly\n",
        "    time.sleep_ms(10)"
      ]
    },
    {
      "cell_type": "markdown",
      "metadata": {
        "id": "ijCHDnYSRlkd"
      },
      "source": [
        "## Servo\n",
        "To reiterate, I am not entirely sure what your car setup for this year is but in years prior we have modified the RC cars used in races so that is what I will be doing here. With that, we know that the car is steered by a single 180 degree servo motor. Here is some code to control that servo"
      ]
    },
    {
      "cell_type": "code",
      "execution_count": null,
      "metadata": {
        "id": "0D7Dk5G5XZkt"
      },
      "outputs": [],
      "source": [
        "servo_pin = 5\n",
        "\n",
        "def steer(angle):\n",
        "  servo_pin.write_analog(angle * 1024 // 180)\n",
        "  time.sleep(1)"
      ]
    },
    {
      "cell_type": "markdown",
      "metadata": {
        "id": "BUPLbK50Qfy8"
      },
      "source": [
        "## With that out of the way\n",
        "Let's start learning about how we can use feedback from these sensors to power our control systems."
      ]
    },
    {
      "attachments": {},
      "cell_type": "markdown",
      "metadata": {
        "id": "d7dI-GuzBEWK"
      },
      "source": [
        "## Open-Loop Control\n",
        "Let's start off with the most straightforward example of a control system. In an open-loop system, we can forget about the sensors we just learned about for a second since we will not be receiving any feedback from them.\n",
        "\n",
        "Instead, open-loop control would be like coding a predetermined route for the car to traverse, setting it in motion, then letting it traverse the route without input from sensors or a controller. In the past, there was an aspect of the competition requiring us to measure a route by hand, then code our car to traverse it on the fly. However, looking at the instructions for this years competition it doesn't seem to be a factor. Be that as it may, it is still an important to understand the how it works and also to understand when and how it fails."
      ]
    },
    {
      "cell_type": "code",
      "execution_count": null,
      "metadata": {},
      "outputs": [],
      "source": [
        "motor_pin = 6\n",
        "\n",
        "def open_loop_control():\n",
        "    # Drive forward for 3 seconds\n",
        "    motor_pin.write_analog(1023)\n",
        "    time.sleep(3)\n",
        "    motor_pin.write_analog(0)\n",
        "\n",
        "    # Turn wheels to the right\n",
        "    servo_pin.write_analog((120 / 180) * 1023)\n",
        "\n",
        "    # Drive forward with wheels turned\n",
        "    motor_pin.write_analog(1023)\n",
        "    time.sleep(2)\n",
        "\n",
        "    # Stop\n",
        "    motor_pin.write_analog(0)"
      ]
    },
    {
      "cell_type": "markdown",
      "metadata": {},
      "source": []
    }
  ],
  "metadata": {
    "colab": {
      "provenance": []
    },
    "kernelspec": {
      "display_name": "Python 3",
      "name": "python3"
    },
    "language_info": {
      "name": "python"
    }
  },
  "nbformat": 4,
  "nbformat_minor": 0
}
